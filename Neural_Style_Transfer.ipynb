{
  "nbformat": 4,
  "nbformat_minor": 0,
  "metadata": {
    "colab": {
      "name": "Neural_Style_Transfer.ipynb",
      "provenance": [],
      "collapsed_sections": []
    },
    "kernelspec": {
      "display_name": "Python 3",
      "language": "python",
      "name": "python3"
    },
    "language_info": {
      "codemirror_mode": {
        "name": "ipython",
        "version": 3
      },
      "file_extension": ".py",
      "mimetype": "text/x-python",
      "name": "python",
      "nbconvert_exporter": "python",
      "pygments_lexer": "ipython3",
      "version": "3.7.3"
    }
  },
  "cells": [
    {
      "cell_type": "markdown",
      "metadata": {
        "id": "Fsqf84JpzqRL"
      },
      "source": [
        "# Implementation of Neural Style Transfer in Keras"
      ]
    },
    {
      "cell_type": "markdown",
      "metadata": {
        "id": "_uyk6ylACcI7"
      },
      "source": [
        "**Import Libraries**"
      ]
    },
    {
      "cell_type": "code",
      "metadata": {
        "colab": {
          "base_uri": "https://localhost:8080/",
          "height": 34
        },
        "id": "sdDgBM3Rz2Q4",
        "outputId": "c4c2c03e-7cab-41dd-8cb5-95236958aa69"
      },
      "source": [
        "import numpy as np\n",
        "from keras.preprocessing.image import load_img, img_to_array\n",
        "from keras.applications import vgg19\n",
        "from keras import backend as K\n",
        "from scipy.optimize import fmin_l_bfgs_b\n",
        "from scipy.misc import imsave\n",
        "import time"
      ],
      "execution_count": null,
      "outputs": [
        {
          "output_type": "stream",
          "text": [
            "Using TensorFlow backend.\n"
          ],
          "name": "stderr"
        }
      ]
    },
    {
      "cell_type": "markdown",
      "metadata": {
        "id": "5xH2xmASCgnY"
      },
      "source": [
        "**Load and Preprocess Content Image and Style Image**"
      ]
    },
    {
      "cell_type": "code",
      "metadata": {
        "id": "0gNrqggv0u6a"
      },
      "source": [
        "content_image_path = 'content.jpg'\n",
        "style_reference_image_path = 'style.jpg'"
      ],
      "execution_count": null,
      "outputs": []
    },
    {
      "cell_type": "code",
      "metadata": {
        "id": "2Z7tCtuc0_Rq"
      },
      "source": [
        "width, height = load_img(content_image_path).size\n",
        "img_height = 400\n",
        "img_width = int(width * img_height / height)"
      ],
      "execution_count": null,
      "outputs": []
    },
    {
      "cell_type": "code",
      "metadata": {
        "id": "KzxR2gMf1q0S"
      },
      "source": [
        "def preprocess_image(image_path):\n",
        "    img = load_img(image_path, target_size=(img_height, img_width))\n",
        "    img = img_to_array(img)\n",
        "    img = np.expand_dims(img, axis=0)\n",
        "    img = vgg19.preprocess_input(img)\n",
        "    return img"
      ],
      "execution_count": null,
      "outputs": []
    },
    {
      "cell_type": "code",
      "metadata": {
        "id": "BtO9OG4b1tHQ"
      },
      "source": [
        "def deprocess_image(x):\n",
        "    x[:, :, 0] += 103.939\n",
        "    x[:, :, 1] += 116.779\n",
        "    x[:, :, 2] += 123.68\n",
        "    x = x[:, :, ::-1]\n",
        "    x = np.clip(x, 0, 255).astype('uint8')\n",
        "    return x"
      ],
      "execution_count": null,
      "outputs": []
    },
    {
      "cell_type": "markdown",
      "metadata": {
        "id": "2tB8WdJ6CxbJ"
      },
      "source": [
        "**Load Pre-trained VGG19 Model**"
      ]
    },
    {
      "cell_type": "code",
      "metadata": {
        "id": "gjDcatEd1z6g"
      },
      "source": [
        "content_image = K.constant(preprocess_image(content_image_path))\n",
        "style_reference_image = K.constant(preprocess_image(style_reference_image_path))\n",
        "combination_image = K.placeholder((1, img_height, img_width, 3))"
      ],
      "execution_count": null,
      "outputs": []
    },
    {
      "cell_type": "code",
      "metadata": {
        "id": "mh5qEZ5D2Euh"
      },
      "source": [
        "input_tensor = K.concatenate([content_image, style_reference_image, combination_image], axis=0)"
      ],
      "execution_count": null,
      "outputs": []
    },
    {
      "cell_type": "code",
      "metadata": {
        "colab": {
          "base_uri": "https://localhost:8080/",
          "height": 104
        },
        "id": "jgscKIXC2J2Z",
        "outputId": "f46b3afd-5040-487c-e7a2-05753b7c1933"
      },
      "source": [
        "model = vgg19.VGG19(input_tensor=input_tensor,\n",
        "                    weights='imagenet',\n",
        "                    include_top=False)\n",
        "print('Model Loaded')"
      ],
      "execution_count": null,
      "outputs": [
        {
          "output_type": "stream",
          "text": [
            "WARNING:tensorflow:From /usr/local/lib/python3.6/dist-packages/tensorflow/python/ops/resource_variable_ops.py:1666: calling BaseResourceVariable.__init__ (from tensorflow.python.ops.resource_variable_ops) with constraint is deprecated and will be removed in a future version.\n",
            "Instructions for updating:\n",
            "If using Keras pass *_constraint arguments to layers.\n",
            "Model Loaded\n"
          ],
          "name": "stdout"
        }
      ]
    },
    {
      "cell_type": "markdown",
      "metadata": {
        "id": "RrvhKE0SC9JZ"
      },
      "source": [
        "**Define Content Loss**"
      ]
    },
    {
      "cell_type": "code",
      "metadata": {
        "id": "3YVVMh7V2M1_"
      },
      "source": [
        "def content_loss(base, combination):\n",
        "    return K.sum(K.square(combination - base))"
      ],
      "execution_count": null,
      "outputs": []
    },
    {
      "cell_type": "markdown",
      "metadata": {
        "id": "IhJEGIy-DAto"
      },
      "source": [
        "**Define Gram Matrix**"
      ]
    },
    {
      "cell_type": "code",
      "metadata": {
        "id": "xYE8MpKh20vh"
      },
      "source": [
        "def gram_matrix(x):\n",
        "    assert K.ndim(x) == 3\n",
        "    features = K.batch_flatten(K.permute_dimensions(x, (2, 0, 1)))\n",
        "    gram = K.dot(features, K.transpose(features))\n",
        "    return gram"
      ],
      "execution_count": null,
      "outputs": []
    },
    {
      "cell_type": "markdown",
      "metadata": {
        "id": "fzQQgPuSDF_h"
      },
      "source": [
        "**Define Style Loss**"
      ]
    },
    {
      "cell_type": "code",
      "metadata": {
        "id": "TOi0P175226Q"
      },
      "source": [
        "def style_loss(style, combination):\n",
        "    S = gram_matrix(style)\n",
        "    C = gram_matrix(combination)\n",
        "    channels = 3\n",
        "    size = img_height * img_width\n",
        "    return K.sum(K.square(S - C)) / (4. * (channels ** 2) * (size ** 2))"
      ],
      "execution_count": null,
      "outputs": []
    },
    {
      "cell_type": "markdown",
      "metadata": {
        "id": "vjJcJcbpDNBK"
      },
      "source": [
        "**Define Total Variation Loss**"
      ]
    },
    {
      "cell_type": "code",
      "metadata": {
        "id": "i5HKWFtW25dw"
      },
      "source": [
        "def total_variational_loss(x):\n",
        "    a = K.square(\n",
        "        x[:, :img_height - 1, :img_width - 1, :] -\n",
        "        x[:, 1:, :img_width - 1, :])\n",
        "    b = K.square(\n",
        "        x[:, :img_height - 1, :img_width - 1, :] -\n",
        "        x[:, :img_height - 1, 1:, :])\n",
        "    return K.sum(K.pow(a + b, 1.25))"
      ],
      "execution_count": null,
      "outputs": []
    },
    {
      "cell_type": "markdown",
      "metadata": {
        "id": "MIsTqP0HDUr7"
      },
      "source": [
        "**Compute Loss and Gradients**"
      ]
    },
    {
      "cell_type": "code",
      "metadata": {
        "id": "lzV9cC3YIMAo"
      },
      "source": [
        "outputs_dict = dict([(layer.name, layer.output) for layer in model.layers])"
      ],
      "execution_count": null,
      "outputs": []
    },
    {
      "cell_type": "code",
      "metadata": {
        "id": "UpXegpUX2_Nv"
      },
      "source": [
        "content_layer = 'block5_conv2'\n",
        "style_layers = ['block1_conv1',\n",
        "                'block2_conv1',\n",
        "                'block3_conv1',\n",
        "                'block4_conv1',\n",
        "                'block5_conv1']"
      ],
      "execution_count": null,
      "outputs": []
    },
    {
      "cell_type": "code",
      "metadata": {
        "id": "BJUDJ-pv3DyQ"
      },
      "source": [
        "total_variational_weight = 1e-4\n",
        "style_weight = 1.\n",
        "content_weight = 0.025"
      ],
      "execution_count": null,
      "outputs": []
    },
    {
      "cell_type": "code",
      "metadata": {
        "id": "wvZX_HvOI-5h"
      },
      "source": [
        "loss = K.variable(0.)"
      ],
      "execution_count": null,
      "outputs": []
    },
    {
      "cell_type": "code",
      "metadata": {
        "id": "ouk4kqV73HW_"
      },
      "source": [
        "layer_features = outputs_dict[content_layer]\n",
        "content_image_features = layer_features[0, :, :, :]\n",
        "combination_features = layer_features[2, :, :, :]"
      ],
      "execution_count": null,
      "outputs": []
    },
    {
      "cell_type": "code",
      "metadata": {
        "id": "YtrpONGeTbyL"
      },
      "source": [
        "loss = loss + (content_weight * content_loss(base=content_image_features, combination=combination_features))"
      ],
      "execution_count": null,
      "outputs": []
    },
    {
      "cell_type": "code",
      "metadata": {
        "id": "63lJXgKB3KEX"
      },
      "source": [
        "for layer_name in style_layers:\n",
        "    layer_features = outputs_dict[layer_name]\n",
        "    style_reference_features = layer_features[1, :, :, :]\n",
        "    combination_features = layer_features[2, :, :, :]\n",
        "    sl = style_loss(style=style_reference_features, combination=combination_features)\n",
        "    loss += (style_weight / len(style_layers)) * sl"
      ],
      "execution_count": null,
      "outputs": []
    },
    {
      "cell_type": "code",
      "metadata": {
        "id": "2KcgG4IpFHsZ"
      },
      "source": [
        "loss = loss + (total_variational_weight * total_variational_loss(combination_image))"
      ],
      "execution_count": null,
      "outputs": []
    },
    {
      "cell_type": "code",
      "metadata": {
        "id": "NaHhHTav3M5R"
      },
      "source": [
        "grads = K.gradients(loss=loss, variables=combination_image)[0]"
      ],
      "execution_count": null,
      "outputs": []
    },
    {
      "cell_type": "code",
      "metadata": {
        "id": "wt_XH92gTo-n"
      },
      "source": [
        "fetch_loss_and_grads = K.function([combination_image], [loss, grads])"
      ],
      "execution_count": null,
      "outputs": []
    },
    {
      "cell_type": "code",
      "metadata": {
        "id": "8_VNNwnY3PCn"
      },
      "source": [
        "class Evaluator(object):\n",
        "    def __init__(self):\n",
        "        self.loss_value = None\n",
        "        self.grad_values = None\n",
        "\n",
        "    def loss(self, x):\n",
        "        assert self.loss_value is None\n",
        "        x = x.reshape([1, img_height, img_width, 3])\n",
        "        outs = fetch_loss_and_grads([x])\n",
        "        loss_value = outs[0]\n",
        "        grad_values = outs[1].flatten().astype('float64')\n",
        "        self.loss_value = loss_value\n",
        "        self.grad_values = grad_values\n",
        "        return self.loss_value\n",
        "\n",
        "    def grads(self, x):\n",
        "        assert self.loss_value is not None\n",
        "        grad_values = np.copy(self.grad_values)\n",
        "        self.loss_value = None\n",
        "        self.grad_values = None\n",
        "        return grad_values"
      ],
      "execution_count": null,
      "outputs": []
    },
    {
      "cell_type": "code",
      "metadata": {
        "id": "yqsVRftW3RmW"
      },
      "source": [
        "evaluator = Evaluator()"
      ],
      "execution_count": null,
      "outputs": []
    },
    {
      "cell_type": "markdown",
      "metadata": {
        "id": "blVLeTGmFjkC"
      },
      "source": [
        "**Style Transfer Training**"
      ]
    },
    {
      "cell_type": "code",
      "metadata": {
        "colab": {
          "base_uri": "https://localhost:8080/",
          "height": 1000
        },
        "id": "ZljZVFhn3VvB",
        "outputId": "a525d980-8977-4860-b267-162f83c69554"
      },
      "source": [
        "result_prefix = 'style_transfer_image'\n",
        "iterations = 20\n",
        "\n",
        "x = preprocess_image(content_image_path)\n",
        "x = x.flatten()\n",
        "for i in range(iterations):\n",
        "    print('Start of iteration', i)\n",
        "    start_time = time.time()\n",
        "    x, min_val, info = fmin_l_bfgs_b(evaluator.loss,\n",
        "                                     x,\n",
        "                                     fprime=evaluator.grads,\n",
        "                                     maxfun=20)\n",
        "    print('Current loss value:', min_val)\n",
        "    img = x.copy().reshape((img_height, img_width, 3))\n",
        "    img = deprocess_image(img)\n",
        "    fname = result_prefix + '_at_iteration_%d.png' % i\n",
        "    imsave(fname, img)\n",
        "    print('Image saved as', fname)\n",
        "    end_time = time.time()\n",
        "    print('Iteration %d completed in %ds' % (i, end_time - start_time))\n"
      ],
      "execution_count": null,
      "outputs": [
        {
          "output_type": "stream",
          "text": [
            "Start of iteration 0\n",
            "Current loss value: 1424789100.0\n",
            "Image saved as style_transfer_image_at_iteration_0.png\n",
            "Iteration 0 completed in 461s\n",
            "Start of iteration 1\n"
          ],
          "name": "stdout"
        },
        {
          "output_type": "stream",
          "text": [
            "/usr/local/lib/python3.6/dist-packages/ipykernel_launcher.py:17: DeprecationWarning: `imsave` is deprecated!\n",
            "`imsave` is deprecated in SciPy 1.0.0, and will be removed in 1.2.0.\n",
            "Use ``imageio.imwrite`` instead.\n"
          ],
          "name": "stderr"
        },
        {
          "output_type": "stream",
          "text": [
            "Current loss value: 658870600.0\n",
            "Image saved as style_transfer_image_at_iteration_1.png\n",
            "Iteration 1 completed in 457s\n",
            "Start of iteration 2\n",
            "Current loss value: 448784770.0\n",
            "Image saved as style_transfer_image_at_iteration_2.png\n",
            "Iteration 2 completed in 460s\n",
            "Start of iteration 3\n",
            "Current loss value: 338069020.0\n",
            "Image saved as style_transfer_image_at_iteration_3.png\n",
            "Iteration 3 completed in 458s\n",
            "Start of iteration 4\n",
            "Current loss value: 274188930.0\n",
            "Image saved as style_transfer_image_at_iteration_4.png\n",
            "Iteration 4 completed in 459s\n",
            "Start of iteration 5\n",
            "Current loss value: 242942850.0\n",
            "Image saved as style_transfer_image_at_iteration_5.png\n",
            "Iteration 5 completed in 457s\n",
            "Start of iteration 6\n",
            "Current loss value: 217116220.0\n",
            "Image saved as style_transfer_image_at_iteration_6.png\n",
            "Iteration 6 completed in 460s\n",
            "Start of iteration 7\n",
            "Current loss value: 197866800.0\n",
            "Image saved as style_transfer_image_at_iteration_7.png\n",
            "Iteration 7 completed in 461s\n",
            "Start of iteration 8\n",
            "Current loss value: 180948700.0\n",
            "Image saved as style_transfer_image_at_iteration_8.png\n",
            "Iteration 8 completed in 459s\n",
            "Start of iteration 9\n",
            "Current loss value: 166871740.0\n",
            "Image saved as style_transfer_image_at_iteration_9.png\n",
            "Iteration 9 completed in 457s\n",
            "Start of iteration 10\n",
            "Current loss value: 151676530.0\n",
            "Image saved as style_transfer_image_at_iteration_10.png\n",
            "Iteration 10 completed in 462s\n",
            "Start of iteration 11\n",
            "Current loss value: 139449920.0\n",
            "Image saved as style_transfer_image_at_iteration_11.png\n",
            "Iteration 11 completed in 462s\n",
            "Start of iteration 12\n",
            "Current loss value: 132218856.0\n",
            "Image saved as style_transfer_image_at_iteration_12.png\n",
            "Iteration 12 completed in 460s\n",
            "Start of iteration 13\n",
            "Current loss value: 125844904.0\n",
            "Image saved as style_transfer_image_at_iteration_13.png\n",
            "Iteration 13 completed in 457s\n",
            "Start of iteration 14\n",
            "Current loss value: 120289864.0\n",
            "Image saved as style_transfer_image_at_iteration_14.png\n",
            "Iteration 14 completed in 458s\n",
            "Start of iteration 15\n",
            "Current loss value: 115486220.0\n",
            "Image saved as style_transfer_image_at_iteration_15.png\n",
            "Iteration 15 completed in 459s\n",
            "Start of iteration 16\n",
            "Current loss value: 110203320.0\n",
            "Image saved as style_transfer_image_at_iteration_16.png\n",
            "Iteration 16 completed in 457s\n",
            "Start of iteration 17\n",
            "Current loss value: 105384470.0\n",
            "Image saved as style_transfer_image_at_iteration_17.png\n",
            "Iteration 17 completed in 456s\n",
            "Start of iteration 18\n",
            "Current loss value: 101851870.0\n",
            "Image saved as style_transfer_image_at_iteration_18.png\n",
            "Iteration 18 completed in 458s\n",
            "Start of iteration 19\n",
            "Current loss value: 97548800.0\n",
            "Image saved as style_transfer_image_at_iteration_19.png\n",
            "Iteration 19 completed in 457s\n"
          ],
          "name": "stdout"
        }
      ]
    }
  ]
}